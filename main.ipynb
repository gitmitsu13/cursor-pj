{
  "nbformat": 4,
  "nbformat_minor": 0,
  "metadata": {
    "colab": {
      "provenance": [],
      "authorship_tag": "ABX9TyPd9kO2ikTeRC5u+JOEgJW1",
      "include_colab_link": true
    },
    "kernelspec": {
      "name": "python3",
      "display_name": "Python 3"
    },
    "language_info": {
      "name": "python"
    }
  },
  "cells": [
    {
      "cell_type": "markdown",
      "metadata": {
        "id": "view-in-github",
        "colab_type": "text"
      },
      "source": [
        "<a href=\"https://colab.research.google.com/github/gitmitsu13/cursor-pj/blob/main/main.ipynb\" target=\"_parent\"><img src=\"https://colab.research.google.com/assets/colab-badge.svg\" alt=\"Open In Colab\"/></a>"
      ]
    },
    {
      "cell_type": "code",
      "execution_count": 1,
      "metadata": {
        "colab": {
          "base_uri": "https://localhost:8080/"
        },
        "id": "hdWSMdi3pqAH",
        "outputId": "2e3360e8-881a-48dd-d016-6bf77c5c8f53"
      },
      "outputs": [
        {
          "output_type": "stream",
          "name": "stdout",
          "text": [
            "Requirement already satisfied: google-api-python-client in /usr/local/lib/python3.11/dist-packages (2.172.0)\n",
            "Requirement already satisfied: google-auth-httplib2 in /usr/local/lib/python3.11/dist-packages (0.2.0)\n",
            "Requirement already satisfied: google-auth-oauthlib in /usr/local/lib/python3.11/dist-packages (1.2.2)\n",
            "Requirement already satisfied: httplib2<1.0.0,>=0.19.0 in /usr/local/lib/python3.11/dist-packages (from google-api-python-client) (0.22.0)\n",
            "Requirement already satisfied: google-auth!=2.24.0,!=2.25.0,<3.0.0,>=1.32.0 in /usr/local/lib/python3.11/dist-packages (from google-api-python-client) (2.38.0)\n",
            "Requirement already satisfied: google-api-core!=2.0.*,!=2.1.*,!=2.2.*,!=2.3.0,<3.0.0,>=1.31.5 in /usr/local/lib/python3.11/dist-packages (from google-api-python-client) (2.25.1)\n",
            "Requirement already satisfied: uritemplate<5,>=3.0.1 in /usr/local/lib/python3.11/dist-packages (from google-api-python-client) (4.2.0)\n",
            "Requirement already satisfied: requests-oauthlib>=0.7.0 in /usr/local/lib/python3.11/dist-packages (from google-auth-oauthlib) (2.0.0)\n",
            "Requirement already satisfied: googleapis-common-protos<2.0.0,>=1.56.2 in /usr/local/lib/python3.11/dist-packages (from google-api-core!=2.0.*,!=2.1.*,!=2.2.*,!=2.3.0,<3.0.0,>=1.31.5->google-api-python-client) (1.70.0)\n",
            "Requirement already satisfied: protobuf!=3.20.0,!=3.20.1,!=4.21.0,!=4.21.1,!=4.21.2,!=4.21.3,!=4.21.4,!=4.21.5,<7.0.0,>=3.19.5 in /usr/local/lib/python3.11/dist-packages (from google-api-core!=2.0.*,!=2.1.*,!=2.2.*,!=2.3.0,<3.0.0,>=1.31.5->google-api-python-client) (5.29.5)\n",
            "Requirement already satisfied: proto-plus<2.0.0,>=1.22.3 in /usr/local/lib/python3.11/dist-packages (from google-api-core!=2.0.*,!=2.1.*,!=2.2.*,!=2.3.0,<3.0.0,>=1.31.5->google-api-python-client) (1.26.1)\n",
            "Requirement already satisfied: requests<3.0.0,>=2.18.0 in /usr/local/lib/python3.11/dist-packages (from google-api-core!=2.0.*,!=2.1.*,!=2.2.*,!=2.3.0,<3.0.0,>=1.31.5->google-api-python-client) (2.32.3)\n",
            "Requirement already satisfied: cachetools<6.0,>=2.0.0 in /usr/local/lib/python3.11/dist-packages (from google-auth!=2.24.0,!=2.25.0,<3.0.0,>=1.32.0->google-api-python-client) (5.5.2)\n",
            "Requirement already satisfied: pyasn1-modules>=0.2.1 in /usr/local/lib/python3.11/dist-packages (from google-auth!=2.24.0,!=2.25.0,<3.0.0,>=1.32.0->google-api-python-client) (0.4.2)\n",
            "Requirement already satisfied: rsa<5,>=3.1.4 in /usr/local/lib/python3.11/dist-packages (from google-auth!=2.24.0,!=2.25.0,<3.0.0,>=1.32.0->google-api-python-client) (4.9.1)\n",
            "Requirement already satisfied: pyparsing!=3.0.0,!=3.0.1,!=3.0.2,!=3.0.3,<4,>=2.4.2 in /usr/local/lib/python3.11/dist-packages (from httplib2<1.0.0,>=0.19.0->google-api-python-client) (3.2.3)\n",
            "Requirement already satisfied: oauthlib>=3.0.0 in /usr/local/lib/python3.11/dist-packages (from requests-oauthlib>=0.7.0->google-auth-oauthlib) (3.2.2)\n",
            "Requirement already satisfied: pyasn1<0.7.0,>=0.6.1 in /usr/local/lib/python3.11/dist-packages (from pyasn1-modules>=0.2.1->google-auth!=2.24.0,!=2.25.0,<3.0.0,>=1.32.0->google-api-python-client) (0.6.1)\n",
            "Requirement already satisfied: charset-normalizer<4,>=2 in /usr/local/lib/python3.11/dist-packages (from requests<3.0.0,>=2.18.0->google-api-core!=2.0.*,!=2.1.*,!=2.2.*,!=2.3.0,<3.0.0,>=1.31.5->google-api-python-client) (3.4.2)\n",
            "Requirement already satisfied: idna<4,>=2.5 in /usr/local/lib/python3.11/dist-packages (from requests<3.0.0,>=2.18.0->google-api-core!=2.0.*,!=2.1.*,!=2.2.*,!=2.3.0,<3.0.0,>=1.31.5->google-api-python-client) (3.10)\n",
            "Requirement already satisfied: urllib3<3,>=1.21.1 in /usr/local/lib/python3.11/dist-packages (from requests<3.0.0,>=2.18.0->google-api-core!=2.0.*,!=2.1.*,!=2.2.*,!=2.3.0,<3.0.0,>=1.31.5->google-api-python-client) (2.4.0)\n",
            "Requirement already satisfied: certifi>=2017.4.17 in /usr/local/lib/python3.11/dist-packages (from requests<3.0.0,>=2.18.0->google-api-core!=2.0.*,!=2.1.*,!=2.2.*,!=2.3.0,<3.0.0,>=1.31.5->google-api-python-client) (2025.6.15)\n"
          ]
        }
      ],
      "source": [
        "pip install google-api-python-client google-auth-httplib2 google-auth-oauthlib"
      ]
    },
    {
      "cell_type": "markdown",
      "source": [],
      "metadata": {
        "id": "WiFMZZbts4Q0"
      }
    },
    {
      "cell_type": "code",
      "source": [
        "# Colabの場合\n",
        "from google.colab import drive\n",
        "import os\n",
        "\n",
        "# Googleドライブをマウント\n",
        "drive.mount('/content/drive')\n",
        "\n",
        "# credentials.jsonへのパスを指定（例：マイドライブの「MyProject」フォルダにある場合）\n",
        "# 必要に応じてパスを修正してください\n",
        "credentials_path = '\"C:\\Users\\jobmi\\Documents\\GitHub\\ToDoList_to_Spreadsheet_create_table\\credentials.json.json\"'\n",
        "\n",
        "def authenticate_google_api():\n",
        "    \"\"\"Google APIに認証し、認証情報を返します。\"\"\"\n",
        "    creds = None\n",
        "    # token.jsonへのパスも必要に応じて修正\n",
        "    token_path = 'token.json' # 同じディレクトリに保存する場合\n",
        "\n",
        "    if os.path.exists(token_path):\n",
        "        creds = Credentials.from_authorized_user_file(token_path, SCOPES)\n",
        "    if not creds or not creds.valid:\n",
        "        if creds and creds.expired and creds.refresh_token:\n",
        "            creds.refresh(Request())\n",
        "        else:\n",
        "            # ファイルパスを引数に渡す\n",
        "            flow = InstalledAppFlow.from_client_secrets_file(\n",
        "                credentials_path, SCOPES)\n",
        "            creds = flow.run_local_server(port=0)\n",
        "        with open(token_path, 'w') as token:\n",
        "            token.write(creds.to_json())\n",
        "    return creds\n",
        "\n",
        "# main関数や他の部分は変更なし\n",
        "# ... (残りのコードはそのまま)\n",
        "\n",
        "def get_tasks(creds):\n",
        "    \"\"\"Google ToDoリストからすべてのタスクを取得します。\"\"\"\n",
        "    tasks_service = build('tasks', 'v1', credentials=creds)\n",
        "    all_tasks_data = []\n",
        "\n",
        "    try:\n",
        "        task_lists_result = tasks_service.tasklists().list().execute()\n",
        "        task_lists = task_lists_result.get('items', [])\n",
        "\n",
        "        if not task_lists:\n",
        "            print(\"タスクリストが見つかりませんでした。\")\n",
        "            return []\n",
        "\n",
        "        print(\"取得したタスクリスト:\")\n",
        "        for task_list in task_lists:\n",
        "            print(f\"- {task_list['title']} (ID: {task_list['id']})\")\n",
        "\n",
        "            tasks_result = tasks_service.tasks().list(tasklist=task_list['id']).execute()\n",
        "            tasks = tasks_result.get('items', [])\n",
        "\n",
        "            if not tasks:\n",
        "                print(f\"  '{task_list['title']}' にタスクがありませんでした。\")\n",
        "                continue\n",
        "\n",
        "            for task in tasks:\n",
        "                title = task.get('title', 'N/A')\n",
        "                due = task.get('due', 'N/A')\n",
        "                status = task.get('status', 'N/A')\n",
        "                notes = task.get('notes', 'N/A')\n",
        "\n",
        "                all_tasks_data.append({\n",
        "                    'タスクリスト': task_list['title'],\n",
        "                    'タスク名': title,\n",
        "                    '期限': due,\n",
        "                    'ステータス': status,\n",
        "                    'メモ': notes\n",
        "                })\n",
        "    except HttpError as err:\n",
        "        print(f\"APIエラーが発生しました: {err}\")\n",
        "    return all_tasks_data\n",
        "\n",
        "def write_to_spreadsheet(creds, data):\n",
        "    \"\"\"取得したタスクデータをGoogleスプレッドシートに書き込みます。\"\"\"\n",
        "    if not data:\n",
        "        print(\"書き込むデータがありません。\")\n",
        "        return\n",
        "\n",
        "    sheets_service = build('sheets', 'v4', credentials=creds)\n",
        "    df = pd.DataFrame(data)\n",
        "\n",
        "    header = df.columns.tolist()\n",
        "    values = df.values.tolist()\n",
        "\n",
        "    body = {\n",
        "        'values': [header] + values\n",
        "    }\n",
        "\n",
        "    try:\n",
        "        result = sheets_service.spreadsheets().values().update(\n",
        "            spreadsheetId=SPREADSHEET_ID, range=RANGE_NAME,\n",
        "            valueInputOption='RAW', body=body).execute()\n",
        "        print(f\"スプレッドシートに {result.get('updatedCells')} セル書き込まれました。\")\n",
        "    except HttpError as err:\n",
        "        print(f\"スプレッドシートへの書き込み中にエラーが発生しました: {err}\")\n",
        "\n",
        "def main():\n",
        "    creds = authenticate_google_api()\n",
        "    if creds:\n",
        "        tasks_data = get_tasks(creds)\n",
        "        if tasks_data:\n",
        "            write_to_spreadsheet(creds, tasks_data)\n",
        "        else:\n",
        "            print(\"タスクデータを取得できませんでした。\")\n",
        "    else:\n",
        "        print(\"Google APIの認証に失敗しました。\")\n",
        "\n",
        "\n",
        "if __name__ == '__main__':\n",
        "    main()"
      ],
      "metadata": {
        "colab": {
          "base_uri": "https://localhost:8080/",
          "height": 183
        },
        "id": "qyyU9jTqtHIH",
        "outputId": "5a7e8779-359b-41cd-8621-22b45e1655e9"
      },
      "execution_count": 13,
      "outputs": [
        {
          "output_type": "error",
          "ename": "SyntaxError",
          "evalue": "(unicode error) 'unicodeescape' codec can't decode bytes in position 3-4: truncated \\UXXXXXXXX escape (ipython-input-13-308894994.py, line 10)",
          "traceback": [
            "\u001b[0;36m  File \u001b[0;32m\"/tmp/ipython-input-13-308894994.py\"\u001b[0;36m, line \u001b[0;32m10\u001b[0m\n\u001b[0;31m    credentials_path = '\"C:\\Users\\jobmi\\Documents\\GitHub\\ToDoList_to_Spreadsheet_create_table\\credentials.json.json\"'\u001b[0m\n\u001b[0m                                                                                                                     ^\u001b[0m\n\u001b[0;31mSyntaxError\u001b[0m\u001b[0;31m:\u001b[0m (unicode error) 'unicodeescape' codec can't decode bytes in position 3-4: truncated \\UXXXXXXXX escape\n"
          ]
        }
      ]
    }
  ]
}